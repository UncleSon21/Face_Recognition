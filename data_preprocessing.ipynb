{
 "cells": [
  {
   "metadata": {
    "ExecuteTime": {
     "end_time": "2024-09-24T00:42:19.455425Z",
     "start_time": "2024-09-24T00:42:19.392959Z"
    }
   },
   "cell_type": "code",
   "source": [
    "import tensorflow as tf\n",
    "import os\n",
    "import cv2"
   ],
   "id": "971e99c3c20535cb",
   "outputs": [],
   "execution_count": 4
  },
  {
   "cell_type": "code",
   "id": "initial_id",
   "metadata": {
    "collapsed": true,
    "ExecuteTime": {
     "end_time": "2024-09-23T02:46:39.639924Z",
     "start_time": "2024-09-23T02:46:39.632290Z"
    }
   },
   "source": [
    "gpus = tf.config.experimental.list_physical_devices('GPU')\n",
    "for gpu in gpus: \n",
    "    tf.config.experimental.set_memory_growth(gpu, True)"
   ],
   "outputs": [],
   "execution_count": 2
  },
  {
   "metadata": {
    "ExecuteTime": {
     "end_time": "2024-09-24T00:40:24.540184Z",
     "start_time": "2024-09-24T00:40:24.535287Z"
    }
   },
   "cell_type": "code",
   "source": "img_folder = 'archive/lfw-deepfunneled/lfw-deepfunneled'",
   "id": "b6965bb0a8faab61",
   "outputs": [],
   "execution_count": 1
  },
  {
   "metadata": {
    "ExecuteTime": {
     "end_time": "2024-09-24T00:40:40.932498Z",
     "start_time": "2024-09-24T00:40:40.928830Z"
    }
   },
   "cell_type": "code",
   "source": [
    "images = []\n",
    "labels = []"
   ],
   "id": "a477125f14c3d7f7",
   "outputs": [],
   "execution_count": 2
  },
  {
   "metadata": {},
   "cell_type": "markdown",
   "source": "## Import images and corresponding labels",
   "id": "dc36177614f881d9"
  },
  {
   "metadata": {
    "ExecuteTime": {
     "end_time": "2024-09-24T00:43:04.163782Z",
     "start_time": "2024-09-24T00:42:48.858666Z"
    }
   },
   "cell_type": "code",
   "source": [
    "# Loop through each sub-folder\n",
    "for subdir in os.listdir(img_folder):\n",
    "    subdir_path = os.path.join(img_folder, subdir)\n",
    "    \n",
    "    # Only process directories (sub-folders)\n",
    "    if os.path.isdir(subdir_path):\n",
    "        label = subdir  # The label is the folder name (the person's name)\n",
    "        \n",
    "        # Loop through each image in the sub-folder\n",
    "        for image_name in os.listdir(subdir_path):\n",
    "            image_path = os.path.join(subdir_path, image_name)\n",
    "            \n",
    "            # Load the image using OpenCV\n",
    "            image = cv2.imread(image_path)\n",
    "            \n",
    "            if image is not None:\n",
    "                # Append the image and the corresponding label\n",
    "                images.append(image)\n",
    "                labels.append(label)\n",
    "            else:\n",
    "                print(f\"Warning: Could not load image {image_path}\")\n"
   ],
   "id": "2089ef0b0b8fc745",
   "outputs": [],
   "execution_count": 5
  }
 ],
 "metadata": {
  "kernelspec": {
   "display_name": "Python 3",
   "language": "python",
   "name": "python3"
  },
  "language_info": {
   "codemirror_mode": {
    "name": "ipython",
    "version": 2
   },
   "file_extension": ".py",
   "mimetype": "text/x-python",
   "name": "python",
   "nbconvert_exporter": "python",
   "pygments_lexer": "ipython2",
   "version": "2.7.6"
  }
 },
 "nbformat": 4,
 "nbformat_minor": 5
}
