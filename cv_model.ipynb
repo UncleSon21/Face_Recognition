{
 "cells": [
  {
   "metadata": {
    "ExecuteTime": {
     "end_time": "2024-09-27T03:18:59.281539Z",
     "start_time": "2024-09-27T03:18:59.277906Z"
    }
   },
   "cell_type": "code",
   "source": [
    "import numpy as np\n",
    "import tensorflow as tf\n",
    "import os\n",
    "import cv2\n",
    "from sklearn.model_selection import train_test_split"
   ],
   "id": "de3df47e27f77a1b",
   "outputs": [],
   "execution_count": 22
  },
  {
   "metadata": {
    "ExecuteTime": {
     "end_time": "2024-09-27T03:18:59.331428Z",
     "start_time": "2024-09-27T03:18:59.299986Z"
    }
   },
   "cell_type": "code",
   "source": [
    "img_folder = 'archive/lfw-deepfunneled/lfw-deepfunneled'\n",
    "\n",
    "X = []\n",
    "Y = []\n",
    "labels = []\n",
    "\n",
    "# Create haar cascade model\n",
    "haar_cascade = cv2.CascadeClassifier('haar_face.xml')"
   ],
   "id": "d72aec42f3cf656e",
   "outputs": [],
   "execution_count": 23
  },
  {
   "metadata": {
    "ExecuteTime": {
     "end_time": "2024-09-27T03:19:00.323132Z",
     "start_time": "2024-09-27T03:18:59.332943Z"
    }
   },
   "cell_type": "code",
   "source": [
    "name = []\n",
    "def count_single_image(img_folder):\n",
    "    count = 0\n",
    "    \n",
    "    # Loop through each folder in the img_folder\n",
    "    for subdir in os.listdir(img_folder):\n",
    "        subdir_path = os.path.join(img_folder, subdir)\n",
    "        \n",
    "        # Check if it's a directory\n",
    "        if os.path.isdir(subdir_path):\n",
    "            # Count how many image files are in the folder\n",
    "            image_files = [f for f in os.listdir(subdir_path) if os.path.isfile(os.path.join(subdir_path, f))]\n",
    "            \n",
    "            # Check if there's exactly one image file\n",
    "            if len(image_files) == 1:\n",
    "                count += 1\n",
    "                name.append(subdir)\n",
    "    \n",
    "    return count\n",
    "    # Call the function and print the result\n",
    "count = count_single_image(img_folder)\n",
    "print(f\"Number of folders with exactly one image: {count}\")\n",
    "for name in name[:10]:\n",
    "    print(f\"Name of the first 10 folders with single image: {name}\")"
   ],
   "id": "63c5a2957be48c5c",
   "outputs": [
    {
     "name": "stdout",
     "output_type": "stream",
     "text": [
      "Number of folders with exactly one image: 4069\n",
      "Name of the first 10 folders with single image: Aaron_Eckhart\n",
      "Name of the first 10 folders with single image: Aaron_Guiel\n",
      "Name of the first 10 folders with single image: Aaron_Patterson\n",
      "Name of the first 10 folders with single image: Aaron_Pena\n",
      "Name of the first 10 folders with single image: Aaron_Tippin\n",
      "Name of the first 10 folders with single image: Abbas_Kiarostami\n",
      "Name of the first 10 folders with single image: Abba_Eban\n",
      "Name of the first 10 folders with single image: Abdel_Aziz_Al-Hakim\n",
      "Name of the first 10 folders with single image: Abdel_Madi_Shabneh\n",
      "Name of the first 10 folders with single image: Abdulaziz_Kamilov\n"
     ]
    }
   ],
   "execution_count": 24
  },
  {
   "cell_type": "code",
   "id": "initial_id",
   "metadata": {
    "collapsed": true,
    "ExecuteTime": {
     "end_time": "2024-09-27T03:19:00.328688Z",
     "start_time": "2024-09-27T03:19:00.324140Z"
    }
   },
   "source": [
    "def restrained_cpu():\n",
    "    gpus = tf.config.experimental.list_physical_devices('GPU')\n",
    "    for gpu in gpus:\n",
    "        tf.config.experimental.set_memory_growth(gpu, True)"
   ],
   "outputs": [],
   "execution_count": 25
  },
  {
   "metadata": {
    "ExecuteTime": {
     "end_time": "2024-09-27T03:19:00.340574Z",
     "start_time": "2024-09-27T03:19:00.329196Z"
    }
   },
   "cell_type": "code",
   "source": [
    "def createLabels():\n",
    "    for subdir in os.listdir(img_folder):\n",
    "        subdir_path = os.path.join(img_folder, subdir)\n",
    "\n",
    "        # Only process directories\n",
    "        if os.path.isdir(subdir_path):\n",
    "            image_files = [f for f in os.listdir(subdir_path) if os.path.isfile(os.path.join(subdir_path, f))]\n",
    "            \n",
    "            # Check if there's exactly one image file\n",
    "            if len(image_files) > 1:\n",
    "                labels.append(subdir)"
   ],
   "id": "9e01f5cd3734dfb1",
   "outputs": [],
   "execution_count": 26
  },
  {
   "metadata": {
    "ExecuteTime": {
     "end_time": "2024-09-27T03:19:00.345723Z",
     "start_time": "2024-09-27T03:19:00.341585Z"
    }
   },
   "cell_type": "code",
   "source": [
    "def importImages_Labels():\n",
    "    for label in labels:\n",
    "        path = os.path.join(img_folder, label)\n",
    "        # Loop through each image in the sub-folder\n",
    "        for image_name in os.listdir(path):\n",
    "            image_path = os.path.join(path, image_name)\n",
    "\n",
    "            # Load the image using OpenCV\n",
    "            image = cv2.imread(image_path)\n",
    "\n",
    "            if image is not None:\n",
    "                # # Convert image to grayscale\n",
    "                # gray = cv2.cvtColor(image, cv2.COLOR_BGR2GRAY)\n",
    "                #\n",
    "                # # detect face in the image (increase image size 10% and minimal neighbors = 3)\n",
    "                # faces_rect = haar_cascade.detectMultiScale(gray, scaleFactor=1.1, minNeighbors=3)\n",
    "                #\n",
    "                # for (x, y, w, h) in faces_rect:\n",
    "                #     faces_roi = gray[y:y + h, x:x + w]\n",
    "                #     X.append(faces_roi)\n",
    "                #     Y.append(labels.index(label))\n",
    "                X.append(image)\n",
    "                Y.append(labels.index(label))\n",
    "\n",
    "            else:\n",
    "                print(f\"Warning: Could not load image {image_path}\")\n",
    "\n",
    "    print(\"Importing images and labels completed!\")"
   ],
   "id": "32b3ddb3dc8652ea",
   "outputs": [],
   "execution_count": 27
  },
  {
   "metadata": {
    "ExecuteTime": {
     "end_time": "2024-09-27T03:19:00.349091Z",
     "start_time": "2024-09-27T03:19:00.345723Z"
    }
   },
   "cell_type": "code",
   "source": [
    "def train_model(X_train, Y_train):\n",
    "    model = cv2.face.LBPHFaceRecognizer_create()\n",
    "    model.train(X_train, Y_train)\n",
    "    print(\"Model training completed!\")\n",
    "    return model"
   ],
   "id": "7e4bcf8c9fa6c308",
   "outputs": [],
   "execution_count": 28
  },
  {
   "metadata": {
    "ExecuteTime": {
     "end_time": "2024-09-27T03:19:54.893362Z",
     "start_time": "2024-09-27T03:19:54.887941Z"
    }
   },
   "cell_type": "code",
   "source": [
    "def test_model(model, X_test, Y_test):\n",
    "    # Initialize lists to hold the results\n",
    "    predictions = []\n",
    "    correct_labels = []\n",
    "    loop = 200\n",
    "    count = 0\n",
    "    # Loop through each of the first 500 images\n",
    "    for i in range(loop):\n",
    "        test_image = X_test[i]\n",
    "        \n",
    "        gray = cv2.cvtColor(test_image, cv2.COLOR_BGR2GRAY)\n",
    "        \n",
    "        faces_rect = haar_cascade.detectMultiScale(gray, 1.3, 4)\n",
    "        \n",
    "        for (x, y, w, h) in faces_rect:\n",
    "            faces_roi = gray[y:y + h, x:x + w]\n",
    "            label, confidence = model.predict(faces_roi)\n",
    "        \n",
    "        if labels[label] == labels[Y_test[i]]:\n",
    "            count += 1\n",
    "            \n",
    "        # Print the prediction and actual label\n",
    "        correct_percent = count / loop * 100\n",
    "        print(f'{i} / {loop} ({correct_percent}) Predicted Label: {labels[label]}, Confidence: {confidence}, Actual Label: {labels[Y_test[i]]}')\n",
    "\n",
    "        # Check if the prediction is correct\n",
    "        # if labels[label] == labels[Y_test[i]]:\n",
    "        #     img = X_test[i]  # The original image in color or grayscale\n",
    "        # \n",
    "        #     # Annotate the image with the predicted label\n",
    "        #     cv2.putText(gray, str(labels[label]), (20, 20), cv2.FONT_HERSHEY_COMPLEX, 1, (0, 255, 0), thickness=2)\n",
    "        #     cv2.rectangle(gray, (0, 0), (250, 250), (0, 255, 0), 2)\n",
    "        #     cv2.imshow('Detected Face', gray)\n",
    "        # \n",
    "        #     cv2.waitKey(0)\n",
    "        #     cv2.destroyAllWindows()\n",
    "\n",
    "        # Append the predicted label and the true label to the lists\n",
    "        predictions.append(label)\n",
    "        correct_labels.append(Y_test[i])\n",
    "\n",
    "    # Calculate accuracy\n",
    "    correct_predictions = sum([1 for p, c in zip(predictions, correct_labels) if p == c])\n",
    "    accuracy = correct_predictions / len(correct_labels) * 100\n",
    "\n",
    "    # Print results\n",
    "    print(f\"Total test images: {len(correct_labels)}\")\n",
    "    print(f\"Correct predictions: {correct_predictions}\")\n",
    "    print(f\"Accuracy: {accuracy:.2f}%\")"
   ],
   "id": "5d08cdcef8ae712e",
   "outputs": [],
   "execution_count": 36
  },
  {
   "metadata": {
    "ExecuteTime": {
     "end_time": "2024-09-27T03:19:00.357512Z",
     "start_time": "2024-09-27T03:19:00.355440Z"
    }
   },
   "cell_type": "code",
   "source": "restrained_cpu()",
   "id": "d7ea5ae93412522c",
   "outputs": [],
   "execution_count": 30
  },
  {
   "metadata": {
    "ExecuteTime": {
     "end_time": "2024-09-27T03:19:06.864506Z",
     "start_time": "2024-09-27T03:19:00.358519Z"
    }
   },
   "cell_type": "code",
   "source": [
    "createLabels()\n",
    "importImages_Labels()"
   ],
   "id": "c86b4caa9bc1fe24",
   "outputs": [
    {
     "name": "stdout",
     "output_type": "stream",
     "text": [
      "Importing images and labels completed!\n"
     ]
    }
   ],
   "execution_count": 31
  },
  {
   "metadata": {
    "ExecuteTime": {
     "end_time": "2024-09-27T03:19:07.101308Z",
     "start_time": "2024-09-27T03:19:06.865611Z"
    }
   },
   "cell_type": "code",
   "source": "X_train, X_test, Y_train, Y_test = train_test_split(X, Y, test_size=0.25, random_state=42)",
   "id": "b2f2b9b49b29a1a0",
   "outputs": [],
   "execution_count": 32
  },
  {
   "metadata": {
    "ExecuteTime": {
     "end_time": "2024-09-27T03:19:37.959326Z",
     "start_time": "2024-09-27T03:19:07.102347Z"
    }
   },
   "cell_type": "code",
   "source": [
    "X_train_gray_rect = []\n",
    "Y_train_gray_rect = []\n",
    "\n",
    "for idx, img in enumerate(X_train):\n",
    "    gray = cv2.cvtColor(img, cv2.COLOR_BGR2GRAY)\n",
    "    faces_rect = haar_cascade.detectMultiScale(gray, 1.3, 4)\n",
    "    for (x, y, w, h) in faces_rect:\n",
    "        faces_roi = gray[y:y + h, x:x + w]\n",
    "        X_train_gray_rect.append(faces_roi)\n",
    "        Y_train_gray_rect.append(Y_train[idx])\n",
    "        "
   ],
   "id": "abdad60a7413855b",
   "outputs": [],
   "execution_count": 33
  },
  {
   "metadata": {
    "ExecuteTime": {
     "end_time": "2024-09-27T03:19:44.016189Z",
     "start_time": "2024-09-27T03:19:37.959835Z"
    }
   },
   "cell_type": "code",
   "source": [
    "X_train_np = np.array(X_train_gray_rect, dtype='object')\n",
    "Y_train_np = np.array(Y_train_gray_rect)\n",
    "\n",
    "trained_model = train_model(X_train_np, Y_train_np)"
   ],
   "id": "a7f709884d5224dd",
   "outputs": [
    {
     "name": "stdout",
     "output_type": "stream",
     "text": [
      "Model training completed!\n"
     ]
    }
   ],
   "execution_count": 34
  },
  {
   "metadata": {
    "ExecuteTime": {
     "end_time": "2024-09-27T03:20:59.235900Z",
     "start_time": "2024-09-27T03:20:01.702059Z"
    }
   },
   "cell_type": "code",
   "source": "test_model(trained_model, X_test, Y_test)",
   "id": "e8b2b2c3c850e423",
   "outputs": [
    {
     "name": "stdout",
     "output_type": "stream",
     "text": [
      "0 / 200 (0.5) Predicted Label: Atal_Bihari_Vajpayee, Confidence: 65.41155728222422, Actual Label: Atal_Bihari_Vajpayee\n",
      "1 / 200 (0.5) Predicted Label: Gerhard_Schroeder, Confidence: 78.73161897120718, Actual Label: David_Trimble\n",
      "2 / 200 (1.0) Predicted Label: Donald_Rumsfeld, Confidence: 70.0177409905207, Actual Label: Donald_Rumsfeld\n",
      "3 / 200 (1.0) Predicted Label: Donald_Rumsfeld, Confidence: 70.0177409905207, Actual Label: Cherie_Blair\n",
      "4 / 200 (1.0) Predicted Label: Pascal_Lamy, Confidence: 67.5839999712264, Actual Label: John_Negroponte\n",
      "5 / 200 (1.0) Predicted Label: Gerhard_Schroeder, Confidence: 69.45371052144826, Actual Label: Anthony_Hopkins\n",
      "6 / 200 (1.5) Predicted Label: Jose_Maria_Aznar, Confidence: 68.38419208918782, Actual Label: Jose_Maria_Aznar\n",
      "7 / 200 (1.5) Predicted Label: Stockard_Channing, Confidence: 82.98669577798573, Actual Label: Elizabeth_Hurley\n",
      "8 / 200 (1.5) Predicted Label: Gerhard_Schroeder, Confidence: 77.10886483225964, Actual Label: Thaksin_Shinawatra\n",
      "9 / 200 (2.0) Predicted Label: Junichiro_Koizumi, Confidence: 67.94925177284864, Actual Label: Junichiro_Koizumi\n",
      "10 / 200 (2.0) Predicted Label: Igor_Ivanov, Confidence: 75.10455966999665, Actual Label: Nasser_al-Kidwa\n",
      "11 / 200 (2.5) Predicted Label: Lisa_Marie_Presley, Confidence: 70.20359099241027, Actual Label: Lisa_Marie_Presley\n",
      "12 / 200 (2.5) Predicted Label: Sarah_Hughes, Confidence: 73.75646287245775, Actual Label: Edwina_Currie\n",
      "13 / 200 (2.5) Predicted Label: Silvio_Berlusconi, Confidence: 77.06457220556366, Actual Label: Al_Pacino\n",
      "14 / 200 (2.5) Predicted Label: Hugo_Chavez, Confidence: 82.516835882232, Actual Label: Bobby_Goldwater\n",
      "15 / 200 (3.0) Predicted Label: Li_Zhaoxing, Confidence: 73.66104729500167, Actual Label: Li_Zhaoxing\n",
      "16 / 200 (3.0) Predicted Label: Hassan_Nasrallah, Confidence: 89.8114321258291, Actual Label: Lennox_Lewis\n",
      "17 / 200 (3.5000000000000004) Predicted Label: Gerard_Depardieu, Confidence: 71.77367423056498, Actual Label: Gerard_Depardieu\n",
      "18 / 200 (4.0) Predicted Label: Vladimir_Putin, Confidence: 71.28472941933755, Actual Label: Vladimir_Putin\n",
      "19 / 200 (4.0) Predicted Label: Tony_Blair, Confidence: 75.84050619507977, Actual Label: Michelle_Rodriguez\n",
      "20 / 200 (4.0) Predicted Label: Filippo_Inzaghi, Confidence: 86.09554580475617, Actual Label: James_Maguire\n",
      "21 / 200 (4.0) Predicted Label: Adam_Scott, Confidence: 98.31833313393493, Actual Label: Jim_Furyk\n",
      "22 / 200 (4.0) Predicted Label: Harrison_Ford, Confidence: 71.60037176162089, Actual Label: Paul_McCartney\n",
      "23 / 200 (4.0) Predicted Label: Dennis_Kucinich, Confidence: 73.6135428568095, Actual Label: Megawati_Sukarnoputri\n",
      "24 / 200 (4.0) Predicted Label: Sepp_Blatter, Confidence: 82.59326870189103, Actual Label: Richard_Myers\n",
      "25 / 200 (4.0) Predicted Label: David_Beckham, Confidence: 77.23547164524936, Actual Label: Calista_Flockhart\n",
      "26 / 200 (4.5) Predicted Label: Donald_Rumsfeld, Confidence: 68.0046844683737, Actual Label: Donald_Rumsfeld\n",
      "27 / 200 (4.5) Predicted Label: Ernie_Eves, Confidence: 66.50108436701478, Actual Label: Jacques_Chirac\n",
      "28 / 200 (4.5) Predicted Label: Justine_Pasek, Confidence: 67.68760844130652, Actual Label: Nia_Vardalos\n",
      "29 / 200 (5.0) Predicted Label: Martin_Scorsese, Confidence: 71.27298200948793, Actual Label: Martin_Scorsese\n",
      "30 / 200 (5.0) Predicted Label: Gerhard_Schroeder, Confidence: 65.87066259630566, Actual Label: Jack_Nicholson\n",
      "31 / 200 (5.5) Predicted Label: Jeb_Bush, Confidence: 64.37949841320095, Actual Label: Jeb_Bush\n",
      "32 / 200 (6.0) Predicted Label: Ari_Fleischer, Confidence: 73.81156747271086, Actual Label: Ari_Fleischer\n",
      "33 / 200 (6.5) Predicted Label: George_W_Bush, Confidence: 60.24555418980211, Actual Label: George_W_Bush\n",
      "34 / 200 (7.000000000000001) Predicted Label: George_W_Bush, Confidence: 71.98236749452296, Actual Label: George_W_Bush\n",
      "35 / 200 (7.5) Predicted Label: George_W_Bush, Confidence: 60.20835432020336, Actual Label: George_W_Bush\n",
      "36 / 200 (8.0) Predicted Label: Donald_Rumsfeld, Confidence: 71.42788502418401, Actual Label: Donald_Rumsfeld\n",
      "37 / 200 (8.0) Predicted Label: George_W_Bush, Confidence: 86.27440848179752, Actual Label: Nabil_Shaath\n",
      "38 / 200 (8.0) Predicted Label: Tommy_Franks, Confidence: 90.93317445632105, Actual Label: Jack_Nicholson\n",
      "39 / 200 (8.5) Predicted Label: Clay_Aiken, Confidence: 62.639971483470724, Actual Label: Clay_Aiken\n",
      "40 / 200 (8.5) Predicted Label: Trent_Lott, Confidence: 80.31078387244749, Actual Label: Geno_Auriemma\n",
      "41 / 200 (8.5) Predicted Label: George_W_Bush, Confidence: 62.77939238235663, Actual Label: Bruce_Van_De_Velde\n",
      "42 / 200 (8.5) Predicted Label: Eduardo_Duhalde, Confidence: 80.95244725468162, Actual Label: Jennifer_Capriati\n",
      "43 / 200 (8.5) Predicted Label: Lucio_Gutierrez, Confidence: 67.5945015553751, Actual Label: Joan_Laporta\n",
      "44 / 200 (8.5) Predicted Label: Emmit_Smith, Confidence: 78.3499180326779, Actual Label: John_Allen_Muhammad\n",
      "45 / 200 (8.5) Predicted Label: Patrick_Stewart, Confidence: 78.91118725868606, Actual Label: Donald_Rumsfeld\n",
      "46 / 200 (8.5) Predicted Label: Steffi_Graf, Confidence: 74.42182058548116, Actual Label: Sheila_Copps\n",
      "47 / 200 (8.5) Predicted Label: Andre_Agassi, Confidence: 69.83620058481748, Actual Label: Hamid_Karzai\n",
      "48 / 200 (8.5) Predicted Label: Vladimir_Putin, Confidence: 80.88159328791296, Actual Label: Greg_Rusedski\n",
      "49 / 200 (9.0) Predicted Label: John_Abizaid, Confidence: 66.44819557953889, Actual Label: John_Abizaid\n",
      "50 / 200 (9.0) Predicted Label: Robert_DeFraites, Confidence: 76.85799675389653, Actual Label: Tom_Daschle\n",
      "51 / 200 (9.5) Predicted Label: George_W_Bush, Confidence: 77.11955722383871, Actual Label: George_W_Bush\n",
      "52 / 200 (9.5) Predicted Label: Kim_Clijsters, Confidence: 83.09957786295567, Actual Label: Tiger_Woods\n",
      "53 / 200 (9.5) Predicted Label: Jim_Hahn, Confidence: 70.98861035188536, Actual Label: Colin_Powell\n",
      "54 / 200 (9.5) Predicted Label: Heidi_Klum, Confidence: 74.79161358745034, Actual Label: Paris_Hilton\n",
      "55 / 200 (9.5) Predicted Label: Carlos_Ortega, Confidence: 82.7283216852972, Actual Label: Andy_Roddick\n",
      "56 / 200 (9.5) Predicted Label: Tony_Blair, Confidence: 74.70939371175872, Actual Label: Augustin_Calleri\n",
      "57 / 200 (9.5) Predicted Label: Colin_Farrell, Confidence: 79.03075239613678, Actual Label: Ai_Sugiyama\n",
      "58 / 200 (10.0) Predicted Label: Winona_Ryder, Confidence: 74.63666592227703, Actual Label: Winona_Ryder\n",
      "59 / 200 (10.0) Predicted Label: Hugo_Chavez, Confidence: 116.57865222394275, Actual Label: Eduard_Shevardnadze\n",
      "60 / 200 (10.0) Predicted Label: Serena_Williams, Confidence: 80.22624101311472, Actual Label: Glafcos_Clerides\n",
      "61 / 200 (10.0) Predicted Label: Billy_Graham, Confidence: 83.43770240686449, Actual Label: Mikhail_Gorbachev\n",
      "62 / 200 (10.0) Predicted Label: Tang_Jiaxuan, Confidence: 74.16219095774788, Actual Label: Saburo_Kawabuchi\n",
      "63 / 200 (10.0) Predicted Label: Thierry_Falise, Confidence: 81.3067251690072, Actual Label: Mary_Steenburgen\n",
      "64 / 200 (10.0) Predicted Label: Jennifer_Garner, Confidence: 65.24546190555839, Actual Label: Adam_Sandler\n",
      "65 / 200 (10.0) Predicted Label: Fidel_Castro, Confidence: 89.64950540562322, Actual Label: Gonzalo_Sanchez_de_Lozada\n",
      "66 / 200 (10.0) Predicted Label: Benjamin_Netanyahu, Confidence: 90.95711585002714, Actual Label: Pierce_Brosnan\n",
      "67 / 200 (10.5) Predicted Label: Tony_Blair, Confidence: 62.72609259613774, Actual Label: Tony_Blair\n",
      "68 / 200 (10.5) Predicted Label: Don_Nickles, Confidence: 79.14327053003007, Actual Label: Tony_Blair\n",
      "69 / 200 (10.5) Predicted Label: Sophia_Loren, Confidence: 76.6292352064665, Actual Label: Jose_Serra\n",
      "70 / 200 (10.5) Predicted Label: Donald_Rumsfeld, Confidence: 80.14857891456516, Actual Label: Ishaq_Shahryar\n",
      "71 / 200 (10.5) Predicted Label: Mike_Martz, Confidence: 75.53294828667816, Actual Label: Hipolito_Mejia\n",
      "72 / 200 (10.5) Predicted Label: Jeremy_Greenstock, Confidence: 70.30500485386182, Actual Label: Hilmi_Ozkok\n",
      "73 / 200 (10.5) Predicted Label: Megawati_Sukarnoputri, Confidence: 68.93079464955417, Actual Label: Daniel_Radcliffe\n",
      "74 / 200 (10.5) Predicted Label: Mohammad_Khatami, Confidence: 83.94235432391275, Actual Label: James_Kelly\n",
      "75 / 200 (10.5) Predicted Label: George_W_Bush, Confidence: 76.24552569834464, Actual Label: Dale_Earnhardt_Jr\n",
      "76 / 200 (10.5) Predicted Label: Jennifer_Capriati, Confidence: 74.73458299101817, Actual Label: Geraldine_Chaplin\n",
      "77 / 200 (10.5) Predicted Label: Hugo_Chavez, Confidence: 67.39513608754045, Actual Label: Christopher_Reeve\n",
      "78 / 200 (10.5) Predicted Label: David_Nalbandian, Confidence: 82.9054748579498, Actual Label: Marie-Reine_Le_Gougne\n",
      "79 / 200 (10.5) Predicted Label: Kenneth_Bowersox, Confidence: 73.68357729713416, Actual Label: Sally_Kirkland\n",
      "80 / 200 (10.5) Predicted Label: Alvaro_Uribe, Confidence: 70.62971401626051, Actual Label: King_Abdullah_II\n",
      "81 / 200 (11.0) Predicted Label: Bill_Graham, Confidence: 70.71778030563317, Actual Label: Bill_Graham\n",
      "82 / 200 (11.0) Predicted Label: Natasha_McElhone, Confidence: 62.63972818204258, Actual Label: Justine_Pasek\n",
      "83 / 200 (11.0) Predicted Label: Matthew_Broderick, Confidence: 90.95347903605177, Actual Label: Naji_Sabri\n",
      "84 / 200 (11.0) Predicted Label: Tony_Blair, Confidence: 81.87498925906606, Actual Label: Byron_Scott\n",
      "85 / 200 (11.5) Predicted Label: George_W_Bush, Confidence: 72.4446835867491, Actual Label: George_W_Bush\n",
      "86 / 200 (11.5) Predicted Label: Serena_Williams, Confidence: 81.0038063835648, Actual Label: Walter_Mondale\n",
      "87 / 200 (12.0) Predicted Label: Ariel_Sharon, Confidence: 74.96233848563269, Actual Label: Ariel_Sharon\n",
      "88 / 200 (12.0) Predicted Label: Michael_Douglas, Confidence: 66.54878857127959, Actual Label: Enrique_Bolanos\n",
      "89 / 200 (12.0) Predicted Label: Nastassia_Kinski, Confidence: 74.08831684992657, Actual Label: Jane_Fonda\n",
      "90 / 200 (12.0) Predicted Label: Bill_Gates, Confidence: 84.85525759023407, Actual Label: Jeremy_Greenstock\n",
      "91 / 200 (12.0) Predicted Label: Colin_Powell, Confidence: 79.89129427611739, Actual Label: Gilberto_Rodriguez_Orejuela\n",
      "92 / 200 (12.0) Predicted Label: Hamid_Karzai, Confidence: 73.56899332307702, Actual Label: Brian_Heidik\n",
      "93 / 200 (12.0) Predicted Label: Junichiro_Koizumi, Confidence: 66.52825590035687, Actual Label: Tony_Blair\n",
      "94 / 200 (12.0) Predicted Label: Tommy_Haas, Confidence: 70.27898209207149, Actual Label: Jose_Maria_Aznar\n",
      "95 / 200 (12.0) Predicted Label: Julianna_Margulies, Confidence: 81.76777720382206, Actual Label: Ashanti\n",
      "96 / 200 (12.0) Predicted Label: Jim_Tressel, Confidence: 69.46197080932673, Actual Label: Brian_Wells\n",
      "97 / 200 (12.0) Predicted Label: Paul_Pierce, Confidence: 84.8549667587553, Actual Label: Tony_Blair\n",
      "98 / 200 (12.5) Predicted Label: Donald_Rumsfeld, Confidence: 67.40361407994205, Actual Label: Donald_Rumsfeld\n",
      "99 / 200 (12.5) Predicted Label: Donald_Rumsfeld, Confidence: 67.40361407994205, Actual Label: Jelena_Dokic\n",
      "100 / 200 (13.0) Predicted Label: Meryl_Streep, Confidence: 63.6226345973471, Actual Label: Meryl_Streep\n",
      "101 / 200 (13.0) Predicted Label: Mahathir_Mohamad, Confidence: 120.09074248206937, Actual Label: Shaukat_Aziz\n",
      "102 / 200 (13.0) Predicted Label: Pierce_Brosnan, Confidence: 85.1325070931131, Actual Label: Lars_Von_Trier\n",
      "103 / 200 (13.0) Predicted Label: Sachiko_Yamada, Confidence: 73.87767829517796, Actual Label: Vicki_Zhao_Wei\n",
      "104 / 200 (13.0) Predicted Label: Jose_Serra, Confidence: 65.6230809446145, Actual Label: Silvio_Berlusconi\n",
      "105 / 200 (13.0) Predicted Label: Grant_Hackett, Confidence: 90.92866434720274, Actual Label: Prince_Harry\n",
      "106 / 200 (13.0) Predicted Label: Elizabeth_Shue, Confidence: 70.37251864435234, Actual Label: Jake_Gyllenhaal\n",
      "107 / 200 (13.0) Predicted Label: Donald_Rumsfeld, Confidence: 79.10202453956568, Actual Label: Ariel_Sharon\n",
      "108 / 200 (13.5) Predicted Label: Roger_Federer, Confidence: 64.86731942023768, Actual Label: Roger_Federer\n",
      "109 / 200 (14.000000000000002) Predicted Label: Jesse_Jackson, Confidence: 77.07398605069015, Actual Label: Jesse_Jackson\n",
      "110 / 200 (14.000000000000002) Predicted Label: Mariangel_Ruiz_Torrealba, Confidence: 76.45167789537925, Actual Label: Elizabeth_Smart\n",
      "111 / 200 (14.000000000000002) Predicted Label: Colin_Powell, Confidence: 84.91952571220455, Actual Label: Tom_Ridge\n",
      "112 / 200 (14.000000000000002) Predicted Label: Alejandro_Toledo, Confidence: 68.42201395000362, Actual Label: Bruce_Weber\n",
      "113 / 200 (14.000000000000002) Predicted Label: Colin_Powell, Confidence: 83.84939202411061, Actual Label: John_Howard\n",
      "114 / 200 (14.000000000000002) Predicted Label: Angela_Merkel, Confidence: 70.4736106051004, Actual Label: Chita_Rivera\n",
      "115 / 200 (14.499999999999998) Predicted Label: Recep_Tayyip_Erdogan, Confidence: 62.123465802154, Actual Label: Recep_Tayyip_Erdogan\n",
      "116 / 200 (15.0) Predicted Label: George_W_Bush, Confidence: 59.13541651354613, Actual Label: George_W_Bush\n",
      "117 / 200 (15.5) Predicted Label: Arminio_Fraga, Confidence: 58.02517447306097, Actual Label: Arminio_Fraga\n",
      "118 / 200 (15.5) Predicted Label: Jean_Charest, Confidence: 69.74400277422511, Actual Label: Gloria_Macapagal_Arroyo\n",
      "119 / 200 (16.0) Predicted Label: George_W_Bush, Confidence: 75.18518204370984, Actual Label: George_W_Bush\n",
      "120 / 200 (16.5) Predicted Label: Tom_Ridge, Confidence: 64.45269493658255, Actual Label: Tom_Ridge\n",
      "121 / 200 (16.5) Predicted Label: Naoto_Kan, Confidence: 85.67362674440504, Actual Label: Michael_Schumacher\n",
      "122 / 200 (16.5) Predicted Label: Laura_Bush, Confidence: 78.39803379070791, Actual Label: Sharon_Osbourne\n",
      "123 / 200 (16.5) Predicted Label: George_W_Bush, Confidence: 88.31920739542933, Actual Label: Naomi_Watts\n",
      "124 / 200 (16.5) Predicted Label: Andy_Hebb, Confidence: 70.24835676635172, Actual Label: Brad_Johnson\n",
      "125 / 200 (17.0) Predicted Label: Fred_Eckhard, Confidence: 66.85683927606752, Actual Label: Fred_Eckhard\n",
      "126 / 200 (17.0) Predicted Label: Jean_Charest, Confidence: 68.15936139467263, Actual Label: Eduardo_Duhalde\n",
      "127 / 200 (17.5) Predicted Label: Saddam_Hussein, Confidence: 69.76440989589204, Actual Label: Saddam_Hussein\n",
      "128 / 200 (17.5) Predicted Label: Nestor_Kirchner, Confidence: 77.62069165180812, Actual Label: Ellen_Engleman\n",
      "129 / 200 (17.5) Predicted Label: Guillermo_Ortiz, Confidence: 72.65498328480118, Actual Label: Sammy_Sosa\n",
      "130 / 200 (18.0) Predicted Label: Atal_Bihari_Vajpayee, Confidence: 71.66923806882507, Actual Label: Atal_Bihari_Vajpayee\n",
      "131 / 200 (18.0) Predicted Label: Gerhard_Schroeder, Confidence: 73.93530034386639, Actual Label: George_W_Bush\n",
      "132 / 200 (18.0) Predicted Label: George_W_Bush, Confidence: 75.87830000655663, Actual Label: Vitali_Klitschko\n",
      "133 / 200 (18.0) Predicted Label: George_W_Bush, Confidence: 67.89800648985376, Actual Label: George_HW_Bush\n",
      "134 / 200 (18.5) Predicted Label: Mark_Philippoussis, Confidence: 75.41556845143013, Actual Label: Mark_Philippoussis\n",
      "135 / 200 (18.5) Predicted Label: Tony_Blair, Confidence: 75.22071385422802, Actual Label: Mark_Richt\n",
      "136 / 200 (18.5) Predicted Label: Gerhard_Schroeder, Confidence: 77.82846115051568, Actual Label: Lars_Von_Trier\n",
      "137 / 200 (18.5) Predicted Label: Ashanti, Confidence: 83.47542359041847, Actual Label: Serena_Williams\n",
      "138 / 200 (19.0) Predicted Label: Juan_Carlos_Ferrero, Confidence: 76.11051334370717, Actual Label: Juan_Carlos_Ferrero\n",
      "139 / 200 (19.5) Predicted Label: Colin_Powell, Confidence: 83.03376743767046, Actual Label: Colin_Powell\n",
      "140 / 200 (19.5) Predicted Label: Romano_Prodi, Confidence: 86.88461811887588, Actual Label: Tom_Daschle\n",
      "141 / 200 (19.5) Predicted Label: Silvio_Berlusconi, Confidence: 74.8718145737609, Actual Label: Tommy_Robredo\n",
      "142 / 200 (19.5) Predicted Label: Ariel_Sharon, Confidence: 68.17192352901243, Actual Label: Leon_LaPorte\n",
      "143 / 200 (19.5) Predicted Label: Ariel_Sharon, Confidence: 68.17192352901243, Actual Label: Anders_Ebbeson\n",
      "144 / 200 (19.5) Predicted Label: Mark_Heller, Confidence: 72.41506558971162, Actual Label: Giuseppe_Gibilisco\n",
      "145 / 200 (19.5) Predicted Label: George_W_Bush, Confidence: 74.11611844011723, Actual Label: Bob_Colvin\n",
      "146 / 200 (19.5) Predicted Label: Elinor_Caplan, Confidence: 86.69511677396288, Actual Label: Mike_Montgomery\n",
      "147 / 200 (20.0) Predicted Label: Colin_Powell, Confidence: 80.51723348455876, Actual Label: Colin_Powell\n",
      "148 / 200 (20.0) Predicted Label: George_W_Bush, Confidence: 83.63950397686249, Actual Label: Jean-Marc_de_La_Sabliere\n",
      "149 / 200 (20.0) Predicted Label: Michael_Ballack, Confidence: 78.47437535965346, Actual Label: Amelie_Mauresmo\n",
      "150 / 200 (20.0) Predicted Label: Wayne_Ferreira, Confidence: 70.77400018087438, Actual Label: Ai_Sugiyama\n",
      "151 / 200 (20.5) Predicted Label: Serena_Williams, Confidence: 82.94272588981984, Actual Label: Serena_Williams\n",
      "152 / 200 (20.5) Predicted Label: Paul_Coppin, Confidence: 79.19604160156426, Actual Label: Leszek_Miller\n",
      "153 / 200 (21.0) Predicted Label: Jean-David_Levitte, Confidence: 68.3875132380432, Actual Label: Jean-David_Levitte\n",
      "154 / 200 (21.5) Predicted Label: Colin_Powell, Confidence: 71.19163189318235, Actual Label: Colin_Powell\n",
      "155 / 200 (21.5) Predicted Label: Colin_Powell, Confidence: 76.34805650179858, Actual Label: Megawati_Sukarnoputri\n",
      "156 / 200 (21.5) Predicted Label: Ali_Abbas, Confidence: 73.90840953202819, Actual Label: Eileen_Coparropa\n",
      "157 / 200 (21.5) Predicted Label: George_W_Bush, Confidence: 86.26451869294812, Actual Label: Trent_Lott\n",
      "158 / 200 (21.5) Predicted Label: Robbie_Williams, Confidence: 79.4694409259247, Actual Label: Angelina_Jolie\n",
      "159 / 200 (22.0) Predicted Label: Bob_Stoops, Confidence: 63.437971288310806, Actual Label: Bob_Stoops\n",
      "160 / 200 (22.5) Predicted Label: Julie_Gerberding, Confidence: 72.80934030631805, Actual Label: Julie_Gerberding\n",
      "161 / 200 (22.5) Predicted Label: Peter_Arnett, Confidence: 70.72653351469467, Actual Label: Spencer_Abraham\n",
      "162 / 200 (23.0) Predicted Label: Amelie_Mauresmo, Confidence: 81.66606572107179, Actual Label: Amelie_Mauresmo\n",
      "163 / 200 (23.0) Predicted Label: Jose_Serra, Confidence: 86.32909015669988, Actual Label: Alberto_Ruiz_Gallardon\n",
      "164 / 200 (23.0) Predicted Label: Art_Howe, Confidence: 75.39724705042757, Actual Label: Hideki_Matsui\n",
      "165 / 200 (23.5) Predicted Label: Harrison_Ford, Confidence: 69.23747256816183, Actual Label: Harrison_Ford\n",
      "166 / 200 (24.0) Predicted Label: Ari_Fleischer, Confidence: 67.9389382250997, Actual Label: Ari_Fleischer\n",
      "167 / 200 (24.0) Predicted Label: Steffi_Graf, Confidence: 69.520023779805, Actual Label: Vanessa_Incontrada\n",
      "168 / 200 (24.0) Predicted Label: Hamid_Karzai, Confidence: 80.72468555907012, Actual Label: Zoran_Djindjic\n",
      "169 / 200 (24.5) Predicted Label: Martha_Beatriz_Roque, Confidence: 75.3969454859079, Actual Label: Martha_Beatriz_Roque\n",
      "170 / 200 (24.5) Predicted Label: Paul_Sarbanes, Confidence: 75.24635036164086, Actual Label: Jose_Serra\n",
      "171 / 200 (24.5) Predicted Label: George_W_Bush, Confidence: 71.62418046526055, Actual Label: Tom_Ridge\n",
      "172 / 200 (24.5) Predicted Label: Jack_Straw, Confidence: 76.04181663008457, Actual Label: Gabriel_Batistuta\n",
      "173 / 200 (24.5) Predicted Label: John_Howard, Confidence: 89.73347056247631, Actual Label: Chen_Shui-bian\n",
      "174 / 200 (24.5) Predicted Label: John_Ashcroft, Confidence: 73.83330682081288, Actual Label: George_W_Bush\n",
      "175 / 200 (25.0) Predicted Label: Megawati_Sukarnoputri, Confidence: 63.18947494045471, Actual Label: Megawati_Sukarnoputri\n",
      "176 / 200 (25.0) Predicted Label: Kim_Clijsters, Confidence: 90.96083286979605, Actual Label: Lisa_Raymond\n",
      "177 / 200 (25.5) Predicted Label: Jennifer_Reilly, Confidence: 60.73743924933959, Actual Label: Jennifer_Reilly\n",
      "178 / 200 (25.5) Predicted Label: Colin_Powell, Confidence: 86.63136795622302, Actual Label: Charles_Moose\n",
      "179 / 200 (25.5) Predicted Label: Saddam_Hussein, Confidence: 89.67613336544255, Actual Label: Leslie_Caldwell\n",
      "180 / 200 (25.5) Predicted Label: Klaus_Zwickel, Confidence: 76.28663040318986, Actual Label: Ahmed_Chalabi\n",
      "181 / 200 (25.5) Predicted Label: Juan_Carlos_Ferrero, Confidence: 71.35339483513995, Actual Label: Lana_Clarkson\n",
      "182 / 200 (26.0) Predicted Label: Colin_Powell, Confidence: 74.65576433393119, Actual Label: Colin_Powell\n",
      "183 / 200 (26.0) Predicted Label: Paul_Bremer, Confidence: 67.68637912480642, Actual Label: Nestor_Kirchner\n",
      "184 / 200 (26.0) Predicted Label: Kim_Clijsters, Confidence: 87.25700686503163, Actual Label: Charles_Schumer\n",
      "185 / 200 (26.0) Predicted Label: Michael_J_Sheehan, Confidence: 72.28373186614286, Actual Label: James_Wolfensohn\n",
      "186 / 200 (26.5) Predicted Label: Russell_Simmons, Confidence: 85.66224073983197, Actual Label: Russell_Simmons\n",
      "187 / 200 (26.5) Predicted Label: Donald_Rumsfeld, Confidence: 72.14761776344157, Actual Label: Michael_Capellas\n",
      "188 / 200 (26.5) Predicted Label: Fidel_Castro, Confidence: 85.27275284681501, Actual Label: Ariel_Sharon\n",
      "189 / 200 (26.5) Predicted Label: Makhdoom_Amin_Fahim, Confidence: 72.57232892724375, Actual Label: Mahathir_Mohamad\n",
      "190 / 200 (26.5) Predicted Label: Pedro_Almodovar, Confidence: 80.35025811639524, Actual Label: Richard_Branson\n",
      "191 / 200 (26.5) Predicted Label: Mohammed_Al-Douri, Confidence: 78.23798004644159, Actual Label: Alvaro_Uribe\n",
      "192 / 200 (26.5) Predicted Label: George_W_Bush, Confidence: 85.07384033129064, Actual Label: Zinedine_Zidane\n",
      "193 / 200 (26.5) Predicted Label: Elizabeth_Shue, Confidence: 71.29954434515452, Actual Label: Oprah_Winfrey\n",
      "194 / 200 (26.5) Predicted Label: Abdullah_Gul, Confidence: 83.67381523897625, Actual Label: Kirk_Johnson\n",
      "195 / 200 (26.5) Predicted Label: Demi_Moore, Confidence: 77.10077680914968, Actual Label: Winona_Ryder\n",
      "196 / 200 (27.0) Predicted Label: Gloria_Macapagal_Arroyo, Confidence: 73.51960096075815, Actual Label: Gloria_Macapagal_Arroyo\n",
      "197 / 200 (27.0) Predicted Label: Takashi_Sorimachi, Confidence: 68.35922689167744, Actual Label: Michelle_Yeoh\n",
      "198 / 200 (27.500000000000004) Predicted Label: Recep_Tayyip_Erdogan, Confidence: 66.12410992635938, Actual Label: Recep_Tayyip_Erdogan\n",
      "199 / 200 (27.500000000000004) Predicted Label: George_W_Bush, Confidence: 75.08813729375876, Actual Label: Richard_Gephardt\n",
      "Total test images: 200\n",
      "Correct predictions: 55\n",
      "Accuracy: 27.50%\n"
     ]
    }
   ],
   "execution_count": 37
  },
  {
   "metadata": {
    "ExecuteTime": {
     "end_time": "2024-09-27T03:19:44.050169Z",
     "start_time": "2024-09-27T03:19:44.048647Z"
    }
   },
   "cell_type": "code",
   "source": "",
   "id": "b34382f911df8a10",
   "outputs": [],
   "execution_count": null
  }
 ],
 "metadata": {
  "kernelspec": {
   "display_name": "Python 3",
   "language": "python",
   "name": "python3"
  },
  "language_info": {
   "codemirror_mode": {
    "name": "ipython",
    "version": 2
   },
   "file_extension": ".py",
   "mimetype": "text/x-python",
   "name": "python",
   "nbconvert_exporter": "python",
   "pygments_lexer": "ipython2",
   "version": "2.7.6"
  }
 },
 "nbformat": 4,
 "nbformat_minor": 5
}
